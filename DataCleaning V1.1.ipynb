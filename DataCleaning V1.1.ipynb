{
 "cells": [
  {
   "cell_type": "code",
   "execution_count": 19,
   "metadata": {
    "execution_event_id": "4f0a7653-d5f9-4d25-bb16-d38d33058fa3",
    "last_executed_text": "import pandas as pd\nimport re",
    "persistent_id": "ad1466ff-db1c-4274-b9bb-82b405682a85"
   },
   "outputs": [],
   "source": [
    "import pandas as pd\n",
    "import re"
   ]
  },
  {
   "cell_type": "code",
   "execution_count": 20,
   "metadata": {
    "execution_event_id": "d339c653-59a6-4c51-a40c-eea0d76dbd74",
    "last_executed_text": "def process(filename):\n    df = pd.read_excel(filename,sheet_name=\"Sheet1\")\n    temp1 = df.iloc[:,1]  \n    temp2 = df.iloc[:,3]  \n    temp3 = df.iloc[:,6]\n    pattern1 = re.compile('(.[\\u4E00-\\u9FA5]+)')  \n    pattern2 = re.compile('([^\\u4E00-\\u9FA5]+)')  \n    df[\"航空公司\"] = temp1.str.extract(pattern1)  \n    df[\"航班号\"] = temp1.str.extract(pattern2)    \n    df[\"起飞机场\"] = temp2.str.extract(pattern1)  \n    df[\"达到机场\"] = temp3.str.extract(pattern1)  \n    newfilename = filename.split(\".\")[0] + \".csv\"\n    df.to_csv(newfilename,sep=',',index=False)    ",
    "persistent_id": "6da06b67-b1de-40fc-82fa-b581b05d8e69"
   },
   "outputs": [],
   "source": [
    "def process(filename):\n",
    "    df = pd.read_excel(filename,sheet_name=\"Sheet1\")\n",
    "    temp1 = df.iloc[:,1]  \n",
    "    temp2 = df.iloc[:,3]  \n",
    "    temp3 = df.iloc[:,6]\n",
    "    pattern1 = re.compile('(.[\\u4E00-\\u9FA5]+)')  \n",
    "    pattern2 = re.compile('([^\\u4E00-\\u9FA5]+)')  \n",
    "    df[\"航空公司\"] = temp1.str.extract(pattern1)  \n",
    "    df[\"航班号\"] = temp1.str.extract(pattern2)    \n",
    "    df[\"起飞机场\"] = temp2.str.extract(pattern1)  \n",
    "    df[\"达到机场\"] = temp3.str.extract(pattern1)  \n",
    "    newfilename = filename.split(\".\")[0] + \".csv\"\n",
    "    df.to_csv(newfilename,sep=',',index=False)    "
   ]
  },
  {
   "cell_type": "code",
   "execution_count": 21,
   "metadata": {
    "execution_event_id": "482a6670-fe94-4edf-91de-f76265d523bb",
    "last_executed_text": "process(\"flights_1_1000.xlsx\") ",
    "persistent_id": "700ad4ea-55d7-4577-a310-debba651d6a0"
   },
   "outputs": [],
   "source": [
    "process(\"flights_1_1000.xlsx\") "
   ]
  },
  {
   "cell_type": "code",
   "execution_count": 27,
   "metadata": {
    "execution_event_id": "be6240de-72a5-4bb6-a198-944079cbc2ac",
    "last_executed_text": "def t_process(filename):\n    df = pd.read_excel(filename,sheet_name=\"Sheet1\")\n    keys = pd.read_excel(\"airportChina V1.1.xlsx\",sheet_name=\"Sheet1\")\n    keys = keys[[\"机场名称\",\"机场三字码\",\"机场四字码\"]]  #获取这三列\n    names = keys[\"机场名称\"].tolist()#机场名\n    code_3 = keys[\"机场三字码\"].tolist()#3字码\n    code_4 = keys[\"机场四字码\"].tolist()#4字码\n    dict1 = dict(zip(names,code_3))#机场名-3字码\n    dict2 = dict(zip(names,code_4))#机场名-4字码\n    temp1 = df.iloc[:,1] #获取第1列\n    temp2 = df.iloc[:,3]\n    temp3 = df.iloc[:,6]\n    pattern1 = re.compile('(.[\\u4E00-\\u9FA5]+)')  #创建模式对象，匹配所有中文字符\n    pattern2 = re.compile('([^\\u4E00-\\u9FA5]+)')  #匹配除中文字符以外的所有字符\n    df[\"航空公司\"] = temp1.str.extract(pattern1)  #获取这一匹配\n    df[\"航班号\"] = temp1.str.extract(pattern2)\n    df[\"起飞机场\"] = temp2.str.extract(pattern1)\n    df[\"达到机场\"] = temp3.str.extract(pattern1)\n    departure = df[\"起飞机场\"]\n    arrival = df[\"达到机场\"]\n    #arrival中的元素不在机场名称里的行数和departure中的元素不在机场名称里的行数和，并将其打印\n    test = arrival[~arrival.isin(keys[\"机场名称\"])].shape[0] + departure[~departure.isin(keys[\"机场名称\"])].shape[0] \n    if (test > 0):\n        print(\"There exists \"+str(test)+\" unmatched airport names.\")\n        print(\"For the arrival part:\")\n        print(df[~arrival.isin(keys[\"机场名称\"])])\n        print(\"For the departure part:\")\n        print(df[~departure.isin(keys[\"机场名称\"])])\n    df[\"3字码起飞\"] = departure.replace(dict1)  #将起飞机场名用3字码代替\n    df[\"4字码起飞\"] = departure.replace(dict2)  #将起飞机场名用4字码代替\n    df[\"3字码降落\"] = arrival.replace(dict1)\n    df[\"4字码降落\"] = arrival.replace(dict2)\n    newfilename = filename.split(\".\")[0] + \".csv\"\n    df.to_csv(newfilename,sep=',',index=False)\n    return pd.DataFrame(df)\n",
    "persistent_id": "e4f7fbc2-30fc-45a4-8fd7-1ddc83744092"
   },
   "outputs": [],
   "source": [
    "def t_process(filename):\n",
    "    df = pd.read_excel(filename,sheet_name=\"Sheet1\")\n",
    "    keys = pd.read_excel(\"airportChina V1.1.xlsx\",sheet_name=\"Sheet1\")\n",
    "    keys = keys[[\"机场名称\",\"机场三字码\",\"机场四字码\"]]  #获取这三列\n",
    "    names = keys[\"机场名称\"].tolist()#机场名\n",
    "    code_3 = keys[\"机场三字码\"].tolist()#3字码\n",
    "    code_4 = keys[\"机场四字码\"].tolist()#4字码\n",
    "    dict1 = dict(zip(names,code_3))#机场名-3字码\n",
    "    dict2 = dict(zip(names,code_4))#机场名-4字码\n",
    "    temp1 = df.iloc[:,1] #获取第1列\n",
    "    temp2 = df.iloc[:,3]\n",
    "    temp3 = df.iloc[:,6]\n",
    "    pattern1 = re.compile('(.[\\u4E00-\\u9FA5]+)')  #创建模式对象，匹配所有中文字符\n",
    "    pattern2 = re.compile('([^\\u4E00-\\u9FA5]+)')  #匹配除中文字符以外的所有字符\n",
    "    df[\"航空公司\"] = temp1.str.extract(pattern1)  #获取这一匹配\n",
    "    df[\"航班号\"] = temp1.str.extract(pattern2)\n",
    "    df[\"起飞机场\"] = temp2.str.extract(pattern1)\n",
    "    df[\"达到机场\"] = temp3.str.extract(pattern1)\n",
    "    departure = df[\"起飞机场\"]\n",
    "    arrival = df[\"达到机场\"]\n",
    "    #arrival中的元素不在机场名称里的行数和departure中的元素不在机场名称里的行数和，并将其打印\n",
    "    test = arrival[~arrival.isin(keys[\"机场名称\"])].shape[0] + departure[~departure.isin(keys[\"机场名称\"])].shape[0] \n",
    "    if (test > 0):\n",
    "        print(\"There exists \"+str(test)+\" unmatched airport names.\")\n",
    "        print(\"For the arrival part:\")\n",
    "        print(df[~arrival.isin(keys[\"机场名称\"])])\n",
    "        print(\"For the departure part:\")\n",
    "        print(df[~departure.isin(keys[\"机场名称\"])])\n",
    "    df[\"3字码起飞\"] = departure.replace(dict1)  #将起飞机场名用3字码代替\n",
    "    df[\"4字码起飞\"] = departure.replace(dict2)  #将起飞机场名用4字码代替\n",
    "    df[\"3字码降落\"] = arrival.replace(dict1)\n",
    "    df[\"4字码降落\"] = arrival.replace(dict2)\n",
    "    newfilename = filename.split(\".\")[0] + \".csv\"\n",
    "    df.to_csv(newfilename,sep=',',index=False)\n",
    "    return pd.DataFrame(df)"
   ]
  },
  {
   "cell_type": "code",
   "execution_count": 28,
   "metadata": {
    "execution_event_id": "37949fde-f0f1-4c96-b267-e2c1da4a8d12",
    "last_executed_text": "df2 = t_process(\"flights_1_1000.xlsx\")",
    "persistent_id": "d5857f11-5631-42f7-b0e9-f8c6c6a684f0"
   },
   "outputs": [],
   "source": [
    "df2 = t_process(\"flights_1_1000.xlsx\")"
   ]
  }
 ],
 "metadata": {
  "history": [
   {
    "cell": {
     "executionCount": 1,
     "executionEventId": "c5795f36-3b4c-465f-820d-c60ea5b4c9d6",
     "hasError": false,
     "id": "8c6d6999-f57c-4a4a-a3fd-7a15feb00c25",
     "outputs": [],
     "persistentId": "ad1466ff-db1c-4274-b9bb-82b405682a85",
     "text": "import pandas as pd\nimport re"
    },
    "executionTime": "2020-06-11T18:05:05.808Z"
   },
   {
    "cell": {
     "executionCount": 2,
     "executionEventId": "df6d2c5d-4de8-414b-9a8c-e59f087c3094",
     "hasError": false,
     "id": "d69ac834-cee2-410a-a7e4-1476148251da",
     "outputs": [],
     "persistentId": "6da06b67-b1de-40fc-82fa-b581b05d8e69",
     "text": "def process(filename):\n    df = pd.read_excel(filename,sheet_name=\"Sheet1\")\n    temp1 = df.iloc[:,1]  \n    temp2 = df.iloc[:,3]  \n    temp3 = df.iloc[:,6]\n    pattern1 = re.compile('(.[\\u4E00-\\u9FA5]+)')  \n    pattern2 = re.compile('([^\\u4E00-\\u9FA5]+)')  \n    df[\"航空公司\"] = temp1.str.extract(pattern1)  \n    df[\"航班号\"] = temp1.str.extract(pattern2)    \n    df[\"起飞机场\"] = temp2.str.extract(pattern1)  \n    df[\"达到机场\"] = temp3.str.extract(pattern1)  \n    newfilename = filename.split(\".\")[0] + \".csv\"\n    df.to_csv(newfilename,sep=',',index=False)    "
    },
    "executionTime": "2020-06-11T18:05:05.828Z"
   },
   {
    "cell": {
     "executionCount": 3,
     "executionEventId": "63bbfbe4-c35c-4c63-a469-0aab8f9f94c2",
     "hasError": false,
     "id": "7f4a2fef-87e8-4680-a1fe-75bb8bcf0af4",
     "outputs": [],
     "persistentId": "700ad4ea-55d7-4577-a310-debba651d6a0",
     "text": "process(\"flights_1_1000.xlsx\") "
    },
    "executionTime": "2020-06-11T18:05:06.046Z"
   },
   {
    "cell": {
     "executionCount": 4,
     "executionEventId": "9ac583bc-f0a1-4fef-a1d3-0411d69e2f51",
     "hasError": false,
     "id": "8981a09a-6896-4dd1-9bd9-176c01fa4a39",
     "outputs": [],
     "persistentId": "e4f7fbc2-30fc-45a4-8fd7-1ddc83744092",
     "text": "def t_process(filename):\n    df = pd.read_excel(filename,sheet_name=\"Sheet1\")\n    keys = pd.read_excel(\"airportChina.xlsx\",sheet_name=\"Sheet1\")\n    keys = keys[[\"机场名称\",\"机场三字码\",\"机场四字码\"]]  #获取这三列\n    names = keys[\"机场名称\"].tolist()#机场名\n    code_3 = keys[\"机场三字码\"].tolist()#3字码\n    code_4 = keys[\"机场四字码\"].tolist()#4字码\n    dict1 = dict(zip(names,code_3))#机场名-3字码\n    dict2 = dict(zip(names,code_4))#机场名-4字码\n    temp1 = df.iloc[:,1] #获取第1列\n    temp2 = df.iloc[:,3]\n    temp3 = df.iloc[:,6]\n    pattern1 = re.compile('(.[\\u4E00-\\u9FA5]+)')  #创建模式对象，匹配所有中文字符\n    pattern2 = re.compile('([^\\u4E00-\\u9FA5]+)')  #匹配除中文字符以外的所有字符\n    df[\"航空公司\"] = temp1.str.extract(pattern1)  #获取这一匹配\n    df[\"航班号\"] = temp1.str.extract(pattern2)\n    df[\"起飞机场\"] = temp2.str.extract(pattern1)\n    df[\"达到机场\"] = temp3.str.extract(pattern1)\n    departure = df[\"起飞机场\"]\n    arrival = df[\"达到机场\"]\n    #arrival中的元素不在机场名称里的行数和departure中的元素不在机场名称里的行数和，并将其打印\n    test = arrival[~arrival.isin(keys[\"机场名称\"])].shape[0] + departure[~departure.isin(keys[\"机场名称\"])].shape[0] \n    if (test > 0):\n        print(\"There exists \"+str(test)+\" unmatched airport names.\")\n        print(\"For the arrival part:\")\n        print(df[~arrival.isin(keys[\"机场名称\"])])\n        print(\"For the departure part:\")\n        print(df[~departure.isin(keys[\"机场名称\"])])\n    df[\"3字码起飞\"] = departure.replace(dict1)  #将起飞机场名用3字码代替\n    df[\"4字码起飞\"] = departure.replace(dict2)  #将起飞机场名用4字码代替\n    df[\"3字码降落\"] = arrival.replace(dict1)\n    df[\"4字码降落\"] = arrival.replace(dict2)\n    return pd.DataFrame(df)\n    #df.to_csv(newfilename,sep=',',index=False)"
    },
    "executionTime": "2020-06-11T18:05:06.105Z"
   },
   {
    "cell": {
     "executionCount": 5,
     "executionEventId": "f07c03fa-efcc-4009-b73b-d2ba507e5768",
     "hasError": true,
     "id": "bf4c1e37-228d-41f5-b17a-d36947692223",
     "outputs": [
      {
       "ename": "FileNotFoundError",
       "evalue": "[Errno 2] No such file or directory: 'airportChina.xlsx'",
       "output_type": "error",
       "traceback": [
        "\u001b[1;31m---------------------------------------------------------------------------\u001b[0m",
        "\u001b[1;31mFileNotFoundError\u001b[0m                         Traceback (most recent call last)",
        "\u001b[1;32m<ipython-input-5-283e8edb819f>\u001b[0m in \u001b[0;36m<module>\u001b[1;34m\u001b[0m\n\u001b[1;32m----> 1\u001b[1;33m \u001b[0mdf2\u001b[0m \u001b[1;33m=\u001b[0m \u001b[0mt_process\u001b[0m\u001b[1;33m(\u001b[0m\u001b[1;34m\"flights_1_1000.xlsx\"\u001b[0m\u001b[1;33m)\u001b[0m\u001b[1;33m\u001b[0m\u001b[1;33m\u001b[0m\u001b[0m\n\u001b[0m",
        "\u001b[1;32m<ipython-input-4-df1c6187baa7>\u001b[0m in \u001b[0;36mt_process\u001b[1;34m(filename)\u001b[0m\n\u001b[0;32m      1\u001b[0m \u001b[1;32mdef\u001b[0m \u001b[0mt_process\u001b[0m\u001b[1;33m(\u001b[0m\u001b[0mfilename\u001b[0m\u001b[1;33m)\u001b[0m\u001b[1;33m:\u001b[0m\u001b[1;33m\u001b[0m\u001b[1;33m\u001b[0m\u001b[0m\n\u001b[0;32m      2\u001b[0m     \u001b[0mdf\u001b[0m \u001b[1;33m=\u001b[0m \u001b[0mpd\u001b[0m\u001b[1;33m.\u001b[0m\u001b[0mread_excel\u001b[0m\u001b[1;33m(\u001b[0m\u001b[0mfilename\u001b[0m\u001b[1;33m,\u001b[0m\u001b[0msheet_name\u001b[0m\u001b[1;33m=\u001b[0m\u001b[1;34m\"Sheet1\"\u001b[0m\u001b[1;33m)\u001b[0m\u001b[1;33m\u001b[0m\u001b[1;33m\u001b[0m\u001b[0m\n\u001b[1;32m----> 3\u001b[1;33m     \u001b[0mkeys\u001b[0m \u001b[1;33m=\u001b[0m \u001b[0mpd\u001b[0m\u001b[1;33m.\u001b[0m\u001b[0mread_excel\u001b[0m\u001b[1;33m(\u001b[0m\u001b[1;34m\"airportChina.xlsx\"\u001b[0m\u001b[1;33m,\u001b[0m\u001b[0msheet_name\u001b[0m\u001b[1;33m=\u001b[0m\u001b[1;34m\"Sheet1\"\u001b[0m\u001b[1;33m)\u001b[0m\u001b[1;33m\u001b[0m\u001b[1;33m\u001b[0m\u001b[0m\n\u001b[0m\u001b[0;32m      4\u001b[0m     \u001b[0mkeys\u001b[0m \u001b[1;33m=\u001b[0m \u001b[0mkeys\u001b[0m\u001b[1;33m[\u001b[0m\u001b[1;33m[\u001b[0m\u001b[1;34m\"机场名称\"\u001b[0m\u001b[1;33m,\u001b[0m\u001b[1;34m\"机场三字码\"\u001b[0m\u001b[1;33m,\u001b[0m\u001b[1;34m\"机场四字码\"\u001b[0m\u001b[1;33m]\u001b[0m\u001b[1;33m]\u001b[0m  \u001b[1;31m#获取这三列\u001b[0m\u001b[1;33m\u001b[0m\u001b[1;33m\u001b[0m\u001b[0m\n\u001b[0;32m      5\u001b[0m     \u001b[0mnames\u001b[0m \u001b[1;33m=\u001b[0m \u001b[0mkeys\u001b[0m\u001b[1;33m[\u001b[0m\u001b[1;34m\"机场名称\"\u001b[0m\u001b[1;33m]\u001b[0m\u001b[1;33m.\u001b[0m\u001b[0mtolist\u001b[0m\u001b[1;33m(\u001b[0m\u001b[1;33m)\u001b[0m\u001b[1;31m#机场名\u001b[0m\u001b[1;33m\u001b[0m\u001b[1;33m\u001b[0m\u001b[0m\n",
        "\u001b[1;32m~\\anaconda3\\lib\\site-packages\\pandas\\io\\excel\\_base.py\u001b[0m in \u001b[0;36mread_excel\u001b[1;34m(io, sheet_name, header, names, index_col, usecols, squeeze, dtype, engine, converters, true_values, false_values, skiprows, nrows, na_values, keep_default_na, verbose, parse_dates, date_parser, thousands, comment, skipfooter, convert_float, mangle_dupe_cols, **kwds)\u001b[0m\n\u001b[0;32m    302\u001b[0m \u001b[1;33m\u001b[0m\u001b[0m\n\u001b[0;32m    303\u001b[0m     \u001b[1;32mif\u001b[0m \u001b[1;32mnot\u001b[0m \u001b[0misinstance\u001b[0m\u001b[1;33m(\u001b[0m\u001b[0mio\u001b[0m\u001b[1;33m,\u001b[0m \u001b[0mExcelFile\u001b[0m\u001b[1;33m)\u001b[0m\u001b[1;33m:\u001b[0m\u001b[1;33m\u001b[0m\u001b[1;33m\u001b[0m\u001b[0m\n\u001b[1;32m--> 304\u001b[1;33m         \u001b[0mio\u001b[0m \u001b[1;33m=\u001b[0m \u001b[0mExcelFile\u001b[0m\u001b[1;33m(\u001b[0m\u001b[0mio\u001b[0m\u001b[1;33m,\u001b[0m \u001b[0mengine\u001b[0m\u001b[1;33m=\u001b[0m\u001b[0mengine\u001b[0m\u001b[1;33m)\u001b[0m\u001b[1;33m\u001b[0m\u001b[1;33m\u001b[0m\u001b[0m\n\u001b[0m\u001b[0;32m    305\u001b[0m     \u001b[1;32melif\u001b[0m \u001b[0mengine\u001b[0m \u001b[1;32mand\u001b[0m \u001b[0mengine\u001b[0m \u001b[1;33m!=\u001b[0m \u001b[0mio\u001b[0m\u001b[1;33m.\u001b[0m\u001b[0mengine\u001b[0m\u001b[1;33m:\u001b[0m\u001b[1;33m\u001b[0m\u001b[1;33m\u001b[0m\u001b[0m\n\u001b[0;32m    306\u001b[0m         raise ValueError(\n",
        "\u001b[1;32m~\\anaconda3\\lib\\site-packages\\pandas\\io\\excel\\_base.py\u001b[0m in \u001b[0;36m__init__\u001b[1;34m(self, io, engine)\u001b[0m\n\u001b[0;32m    822\u001b[0m         \u001b[0mself\u001b[0m\u001b[1;33m.\u001b[0m\u001b[0m_io\u001b[0m \u001b[1;33m=\u001b[0m \u001b[0mstringify_path\u001b[0m\u001b[1;33m(\u001b[0m\u001b[0mio\u001b[0m\u001b[1;33m)\u001b[0m\u001b[1;33m\u001b[0m\u001b[1;33m\u001b[0m\u001b[0m\n\u001b[0;32m    823\u001b[0m \u001b[1;33m\u001b[0m\u001b[0m\n\u001b[1;32m--> 824\u001b[1;33m         \u001b[0mself\u001b[0m\u001b[1;33m.\u001b[0m\u001b[0m_reader\u001b[0m \u001b[1;33m=\u001b[0m \u001b[0mself\u001b[0m\u001b[1;33m.\u001b[0m\u001b[0m_engines\u001b[0m\u001b[1;33m[\u001b[0m\u001b[0mengine\u001b[0m\u001b[1;33m]\u001b[0m\u001b[1;33m(\u001b[0m\u001b[0mself\u001b[0m\u001b[1;33m.\u001b[0m\u001b[0m_io\u001b[0m\u001b[1;33m)\u001b[0m\u001b[1;33m\u001b[0m\u001b[1;33m\u001b[0m\u001b[0m\n\u001b[0m\u001b[0;32m    825\u001b[0m \u001b[1;33m\u001b[0m\u001b[0m\n\u001b[0;32m    826\u001b[0m     \u001b[1;32mdef\u001b[0m \u001b[0m__fspath__\u001b[0m\u001b[1;33m(\u001b[0m\u001b[0mself\u001b[0m\u001b[1;33m)\u001b[0m\u001b[1;33m:\u001b[0m\u001b[1;33m\u001b[0m\u001b[1;33m\u001b[0m\u001b[0m\n",
        "\u001b[1;32m~\\anaconda3\\lib\\site-packages\\pandas\\io\\excel\\_xlrd.py\u001b[0m in \u001b[0;36m__init__\u001b[1;34m(self, filepath_or_buffer)\u001b[0m\n\u001b[0;32m     19\u001b[0m         \u001b[0merr_msg\u001b[0m \u001b[1;33m=\u001b[0m \u001b[1;34m\"Install xlrd >= 1.0.0 for Excel support\"\u001b[0m\u001b[1;33m\u001b[0m\u001b[1;33m\u001b[0m\u001b[0m\n\u001b[0;32m     20\u001b[0m         \u001b[0mimport_optional_dependency\u001b[0m\u001b[1;33m(\u001b[0m\u001b[1;34m\"xlrd\"\u001b[0m\u001b[1;33m,\u001b[0m \u001b[0mextra\u001b[0m\u001b[1;33m=\u001b[0m\u001b[0merr_msg\u001b[0m\u001b[1;33m)\u001b[0m\u001b[1;33m\u001b[0m\u001b[1;33m\u001b[0m\u001b[0m\n\u001b[1;32m---> 21\u001b[1;33m         \u001b[0msuper\u001b[0m\u001b[1;33m(\u001b[0m\u001b[1;33m)\u001b[0m\u001b[1;33m.\u001b[0m\u001b[0m__init__\u001b[0m\u001b[1;33m(\u001b[0m\u001b[0mfilepath_or_buffer\u001b[0m\u001b[1;33m)\u001b[0m\u001b[1;33m\u001b[0m\u001b[1;33m\u001b[0m\u001b[0m\n\u001b[0m\u001b[0;32m     22\u001b[0m \u001b[1;33m\u001b[0m\u001b[0m\n\u001b[0;32m     23\u001b[0m     \u001b[1;33m@\u001b[0m\u001b[0mproperty\u001b[0m\u001b[1;33m\u001b[0m\u001b[1;33m\u001b[0m\u001b[0m\n",
        "\u001b[1;32m~\\anaconda3\\lib\\site-packages\\pandas\\io\\excel\\_base.py\u001b[0m in \u001b[0;36m__init__\u001b[1;34m(self, filepath_or_buffer)\u001b[0m\n\u001b[0;32m    351\u001b[0m             \u001b[0mself\u001b[0m\u001b[1;33m.\u001b[0m\u001b[0mbook\u001b[0m \u001b[1;33m=\u001b[0m \u001b[0mself\u001b[0m\u001b[1;33m.\u001b[0m\u001b[0mload_workbook\u001b[0m\u001b[1;33m(\u001b[0m\u001b[0mfilepath_or_buffer\u001b[0m\u001b[1;33m)\u001b[0m\u001b[1;33m\u001b[0m\u001b[1;33m\u001b[0m\u001b[0m\n\u001b[0;32m    352\u001b[0m         \u001b[1;32melif\u001b[0m \u001b[0misinstance\u001b[0m\u001b[1;33m(\u001b[0m\u001b[0mfilepath_or_buffer\u001b[0m\u001b[1;33m,\u001b[0m \u001b[0mstr\u001b[0m\u001b[1;33m)\u001b[0m\u001b[1;33m:\u001b[0m\u001b[1;33m\u001b[0m\u001b[1;33m\u001b[0m\u001b[0m\n\u001b[1;32m--> 353\u001b[1;33m             \u001b[0mself\u001b[0m\u001b[1;33m.\u001b[0m\u001b[0mbook\u001b[0m \u001b[1;33m=\u001b[0m \u001b[0mself\u001b[0m\u001b[1;33m.\u001b[0m\u001b[0mload_workbook\u001b[0m\u001b[1;33m(\u001b[0m\u001b[0mfilepath_or_buffer\u001b[0m\u001b[1;33m)\u001b[0m\u001b[1;33m\u001b[0m\u001b[1;33m\u001b[0m\u001b[0m\n\u001b[0m\u001b[0;32m    354\u001b[0m         \u001b[1;32melif\u001b[0m \u001b[0misinstance\u001b[0m\u001b[1;33m(\u001b[0m\u001b[0mfilepath_or_buffer\u001b[0m\u001b[1;33m,\u001b[0m \u001b[0mbytes\u001b[0m\u001b[1;33m)\u001b[0m\u001b[1;33m:\u001b[0m\u001b[1;33m\u001b[0m\u001b[1;33m\u001b[0m\u001b[0m\n\u001b[0;32m    355\u001b[0m             \u001b[0mself\u001b[0m\u001b[1;33m.\u001b[0m\u001b[0mbook\u001b[0m \u001b[1;33m=\u001b[0m \u001b[0mself\u001b[0m\u001b[1;33m.\u001b[0m\u001b[0mload_workbook\u001b[0m\u001b[1;33m(\u001b[0m\u001b[0mBytesIO\u001b[0m\u001b[1;33m(\u001b[0m\u001b[0mfilepath_or_buffer\u001b[0m\u001b[1;33m)\u001b[0m\u001b[1;33m)\u001b[0m\u001b[1;33m\u001b[0m\u001b[1;33m\u001b[0m\u001b[0m\n",
        "\u001b[1;32m~\\anaconda3\\lib\\site-packages\\pandas\\io\\excel\\_xlrd.py\u001b[0m in \u001b[0;36mload_workbook\u001b[1;34m(self, filepath_or_buffer)\u001b[0m\n\u001b[0;32m     34\u001b[0m             \u001b[1;32mreturn\u001b[0m \u001b[0mopen_workbook\u001b[0m\u001b[1;33m(\u001b[0m\u001b[0mfile_contents\u001b[0m\u001b[1;33m=\u001b[0m\u001b[0mdata\u001b[0m\u001b[1;33m)\u001b[0m\u001b[1;33m\u001b[0m\u001b[1;33m\u001b[0m\u001b[0m\n\u001b[0;32m     35\u001b[0m         \u001b[1;32melse\u001b[0m\u001b[1;33m:\u001b[0m\u001b[1;33m\u001b[0m\u001b[1;33m\u001b[0m\u001b[0m\n\u001b[1;32m---> 36\u001b[1;33m             \u001b[1;32mreturn\u001b[0m \u001b[0mopen_workbook\u001b[0m\u001b[1;33m(\u001b[0m\u001b[0mfilepath_or_buffer\u001b[0m\u001b[1;33m)\u001b[0m\u001b[1;33m\u001b[0m\u001b[1;33m\u001b[0m\u001b[0m\n\u001b[0m\u001b[0;32m     37\u001b[0m \u001b[1;33m\u001b[0m\u001b[0m\n\u001b[0;32m     38\u001b[0m     \u001b[1;33m@\u001b[0m\u001b[0mproperty\u001b[0m\u001b[1;33m\u001b[0m\u001b[1;33m\u001b[0m\u001b[0m\n",
        "\u001b[1;32m~\\anaconda3\\lib\\site-packages\\xlrd\\__init__.py\u001b[0m in \u001b[0;36mopen_workbook\u001b[1;34m(filename, logfile, verbosity, use_mmap, file_contents, encoding_override, formatting_info, on_demand, ragged_rows)\u001b[0m\n\u001b[0;32m    109\u001b[0m     \u001b[1;32melse\u001b[0m\u001b[1;33m:\u001b[0m\u001b[1;33m\u001b[0m\u001b[1;33m\u001b[0m\u001b[0m\n\u001b[0;32m    110\u001b[0m         \u001b[0mfilename\u001b[0m \u001b[1;33m=\u001b[0m \u001b[0mos\u001b[0m\u001b[1;33m.\u001b[0m\u001b[0mpath\u001b[0m\u001b[1;33m.\u001b[0m\u001b[0mexpanduser\u001b[0m\u001b[1;33m(\u001b[0m\u001b[0mfilename\u001b[0m\u001b[1;33m)\u001b[0m\u001b[1;33m\u001b[0m\u001b[1;33m\u001b[0m\u001b[0m\n\u001b[1;32m--> 111\u001b[1;33m         \u001b[1;32mwith\u001b[0m \u001b[0mopen\u001b[0m\u001b[1;33m(\u001b[0m\u001b[0mfilename\u001b[0m\u001b[1;33m,\u001b[0m \u001b[1;34m\"rb\"\u001b[0m\u001b[1;33m)\u001b[0m \u001b[1;32mas\u001b[0m \u001b[0mf\u001b[0m\u001b[1;33m:\u001b[0m\u001b[1;33m\u001b[0m\u001b[1;33m\u001b[0m\u001b[0m\n\u001b[0m\u001b[0;32m    112\u001b[0m             \u001b[0mpeek\u001b[0m \u001b[1;33m=\u001b[0m \u001b[0mf\u001b[0m\u001b[1;33m.\u001b[0m\u001b[0mread\u001b[0m\u001b[1;33m(\u001b[0m\u001b[0mpeeksz\u001b[0m\u001b[1;33m)\u001b[0m\u001b[1;33m\u001b[0m\u001b[1;33m\u001b[0m\u001b[0m\n\u001b[0;32m    113\u001b[0m     \u001b[1;32mif\u001b[0m \u001b[0mpeek\u001b[0m \u001b[1;33m==\u001b[0m \u001b[1;34mb\"PK\\x03\\x04\"\u001b[0m\u001b[1;33m:\u001b[0m \u001b[1;31m# a ZIP file\u001b[0m\u001b[1;33m\u001b[0m\u001b[1;33m\u001b[0m\u001b[0m\n",
        "\u001b[1;31mFileNotFoundError\u001b[0m: [Errno 2] No such file or directory: 'airportChina.xlsx'"
       ]
      }
     ],
     "persistentId": "d5857f11-5631-42f7-b0e9-f8c6c6a684f0",
     "text": "df2 = t_process(\"flights_1_1000.xlsx\")"
    },
    "executionTime": "2020-06-11T18:05:06.309Z"
   },
   {
    "cell": {
     "executionCount": 6,
     "executionEventId": "7d6037ff-7941-4cff-84a3-a9b56956bb81",
     "hasError": false,
     "id": "8981a09a-6896-4dd1-9bd9-176c01fa4a39",
     "outputs": [],
     "persistentId": "e4f7fbc2-30fc-45a4-8fd7-1ddc83744092",
     "text": "def t_process(filename):\n    df = pd.read_excel(filename,sheet_name=\"Sheet1\")\n    keys = pd.read_excel(\"airportChina V1.0.xlsx\",sheet_name=\"Sheet1\")\n    keys = keys[[\"机场名称\",\"机场三字码\",\"机场四字码\"]]  #获取这三列\n    names = keys[\"机场名称\"].tolist()#机场名\n    code_3 = keys[\"机场三字码\"].tolist()#3字码\n    code_4 = keys[\"机场四字码\"].tolist()#4字码\n    dict1 = dict(zip(names,code_3))#机场名-3字码\n    dict2 = dict(zip(names,code_4))#机场名-4字码\n    temp1 = df.iloc[:,1] #获取第1列\n    temp2 = df.iloc[:,3]\n    temp3 = df.iloc[:,6]\n    pattern1 = re.compile('(.[\\u4E00-\\u9FA5]+)')  #创建模式对象，匹配所有中文字符\n    pattern2 = re.compile('([^\\u4E00-\\u9FA5]+)')  #匹配除中文字符以外的所有字符\n    df[\"航空公司\"] = temp1.str.extract(pattern1)  #获取这一匹配\n    df[\"航班号\"] = temp1.str.extract(pattern2)\n    df[\"起飞机场\"] = temp2.str.extract(pattern1)\n    df[\"达到机场\"] = temp3.str.extract(pattern1)\n    departure = df[\"起飞机场\"]\n    arrival = df[\"达到机场\"]\n    #arrival中的元素不在机场名称里的行数和departure中的元素不在机场名称里的行数和，并将其打印\n    test = arrival[~arrival.isin(keys[\"机场名称\"])].shape[0] + departure[~departure.isin(keys[\"机场名称\"])].shape[0] \n    if (test > 0):\n        print(\"There exists \"+str(test)+\" unmatched airport names.\")\n        print(\"For the arrival part:\")\n        print(df[~arrival.isin(keys[\"机场名称\"])])\n        print(\"For the departure part:\")\n        print(df[~departure.isin(keys[\"机场名称\"])])\n    df[\"3字码起飞\"] = departure.replace(dict1)  #将起飞机场名用3字码代替\n    df[\"4字码起飞\"] = departure.replace(dict2)  #将起飞机场名用4字码代替\n    df[\"3字码降落\"] = arrival.replace(dict1)\n    df[\"4字码降落\"] = arrival.replace(dict2)\n    return pd.DataFrame(df)\n    #df.to_csv(newfilename,sep=',',index=False)"
    },
    "executionTime": "2020-06-11T18:05:30.872Z"
   },
   {
    "cell": {
     "executionCount": 7,
     "executionEventId": "57876058-3373-4cf6-b2f6-db3181eeaa26",
     "hasError": false,
     "id": "8c6d6999-f57c-4a4a-a3fd-7a15feb00c25",
     "outputs": [],
     "persistentId": "ad1466ff-db1c-4274-b9bb-82b405682a85",
     "text": "import pandas as pd\nimport re"
    },
    "executionTime": "2020-06-11T18:05:32.447Z"
   },
   {
    "cell": {
     "executionCount": 8,
     "executionEventId": "932dbe2d-32a8-42d4-a542-46b1bd67a614",
     "hasError": false,
     "id": "d69ac834-cee2-410a-a7e4-1476148251da",
     "outputs": [],
     "persistentId": "6da06b67-b1de-40fc-82fa-b581b05d8e69",
     "text": "def process(filename):\n    df = pd.read_excel(filename,sheet_name=\"Sheet1\")\n    temp1 = df.iloc[:,1]  \n    temp2 = df.iloc[:,3]  \n    temp3 = df.iloc[:,6]\n    pattern1 = re.compile('(.[\\u4E00-\\u9FA5]+)')  \n    pattern2 = re.compile('([^\\u4E00-\\u9FA5]+)')  \n    df[\"航空公司\"] = temp1.str.extract(pattern1)  \n    df[\"航班号\"] = temp1.str.extract(pattern2)    \n    df[\"起飞机场\"] = temp2.str.extract(pattern1)  \n    df[\"达到机场\"] = temp3.str.extract(pattern1)  \n    newfilename = filename.split(\".\")[0] + \".csv\"\n    df.to_csv(newfilename,sep=',',index=False)    "
    },
    "executionTime": "2020-06-11T18:05:32.511Z"
   },
   {
    "cell": {
     "executionCount": 9,
     "executionEventId": "f814aa90-a381-40f2-9f68-35cdcae55b04",
     "hasError": false,
     "id": "7f4a2fef-87e8-4680-a1fe-75bb8bcf0af4",
     "outputs": [],
     "persistentId": "700ad4ea-55d7-4577-a310-debba651d6a0",
     "text": "process(\"flights_1_1000.xlsx\") "
    },
    "executionTime": "2020-06-11T18:05:32.594Z"
   },
   {
    "cell": {
     "executionCount": 10,
     "executionEventId": "69b270ed-8feb-44e9-b518-05729e6e0bee",
     "hasError": false,
     "id": "8981a09a-6896-4dd1-9bd9-176c01fa4a39",
     "outputs": [],
     "persistentId": "e4f7fbc2-30fc-45a4-8fd7-1ddc83744092",
     "text": "def t_process(filename):\n    df = pd.read_excel(filename,sheet_name=\"Sheet1\")\n    keys = pd.read_excel(\"airportChina V1.0.xlsx\",sheet_name=\"Sheet1\")\n    keys = keys[[\"机场名称\",\"机场三字码\",\"机场四字码\"]]  #获取这三列\n    names = keys[\"机场名称\"].tolist()#机场名\n    code_3 = keys[\"机场三字码\"].tolist()#3字码\n    code_4 = keys[\"机场四字码\"].tolist()#4字码\n    dict1 = dict(zip(names,code_3))#机场名-3字码\n    dict2 = dict(zip(names,code_4))#机场名-4字码\n    temp1 = df.iloc[:,1] #获取第1列\n    temp2 = df.iloc[:,3]\n    temp3 = df.iloc[:,6]\n    pattern1 = re.compile('(.[\\u4E00-\\u9FA5]+)')  #创建模式对象，匹配所有中文字符\n    pattern2 = re.compile('([^\\u4E00-\\u9FA5]+)')  #匹配除中文字符以外的所有字符\n    df[\"航空公司\"] = temp1.str.extract(pattern1)  #获取这一匹配\n    df[\"航班号\"] = temp1.str.extract(pattern2)\n    df[\"起飞机场\"] = temp2.str.extract(pattern1)\n    df[\"达到机场\"] = temp3.str.extract(pattern1)\n    departure = df[\"起飞机场\"]\n    arrival = df[\"达到机场\"]\n    #arrival中的元素不在机场名称里的行数和departure中的元素不在机场名称里的行数和，并将其打印\n    test = arrival[~arrival.isin(keys[\"机场名称\"])].shape[0] + departure[~departure.isin(keys[\"机场名称\"])].shape[0] \n    if (test > 0):\n        print(\"There exists \"+str(test)+\" unmatched airport names.\")\n        print(\"For the arrival part:\")\n        print(df[~arrival.isin(keys[\"机场名称\"])])\n        print(\"For the departure part:\")\n        print(df[~departure.isin(keys[\"机场名称\"])])\n    df[\"3字码起飞\"] = departure.replace(dict1)  #将起飞机场名用3字码代替\n    df[\"4字码起飞\"] = departure.replace(dict2)  #将起飞机场名用4字码代替\n    df[\"3字码降落\"] = arrival.replace(dict1)\n    df[\"4字码降落\"] = arrival.replace(dict2)\n    return pd.DataFrame(df)\n    #df.to_csv(newfilename,sep=',',index=False)"
    },
    "executionTime": "2020-06-11T18:05:32.597Z"
   },
   {
    "cell": {
     "executionCount": 11,
     "executionEventId": "f0822aef-63f0-44f5-afdd-99d5e0cb80b6",
     "hasError": false,
     "id": "bf4c1e37-228d-41f5-b17a-d36947692223",
     "outputs": [
      {
       "name": "stdout",
       "output_type": "stream",
       "text": "There exists 584 unmatched airport names.\nFor the arrival part:\n      起飞时间      航班号            飞机类型  起飞机场     时长   到达时间  达到机场 label_tip  \\\n1    08:00   GS6581       空客A320(中)  江北机场  2h10m  10:10  萧山机场       无餐食   \n2    08:10   CZ2879       空客A320(中)  江北机场  2h15m  10:25  萧山机场       无餐食   \n3    19:15   MF8416    波音737-800(中)  江北机场  2h10m  21:25  萧山机场       有正餐   \n4    09:00   MF8478    波音737-800(中)  江北机场  2h10m  11:10  萧山机场       有小食   \n5    21:50   JD5728       空客A320(中)  江北机场  2h15m  00:05  萧山机场       无餐食   \n..     ...      ...             ...   ...    ...    ...   ...       ...   \n399  11:00   CA1936       空客A320(中)  中川机场  2h45m  13:45  浦东机场       无餐食   \n400  12:35   FM9214  波音737-900ER(中)  中川机场  2h35m  15:10  虹桥机场       无餐食   \n401  18:05   MU2127       空客A320(中)  中川机场  2h35m  20:40  虹桥机场       无餐食   \n402  15:10   HO1102       空客A320(中)  中川机场  2h40m  17:50  浦东机场       有小食   \n403  16:50  G55564J          JET(小)  中川机场  18h5m  10:55  西昌机场       无餐食   \n\n        价格 gray_style    航空公司  \n1     ¥555    3.4折经济舱    天津航空  \n2     ¥600    3.3折经济舱    南方航空  \n3     ¥600      3折经济舱    厦门航空  \n4     ¥650    3.3折经济舱    厦门航空  \n5     ¥650      首悦经济舱    首都航空  \n..     ...        ...     ...  \n399   ¥370      2折经济舱  中国国际航空  \n400   ¥445    2.4折经济舱    上海航空  \n401   ¥445      2折经济舱    东方航空  \n402   ¥529    2.7折经济舱    吉祥航空  \n403  ¥1540    4.6折经济舱    华夏航空  \n\n[283 rows x 11 columns]\nFor the departure part:\n      起飞时间      航班号          飞机类型  起飞机场     时长   到达时间    达到机场 label_tip  \\\n1    08:00   GS6581     空客A320(中)  江北机场  2h10m  10:10    萧山机场       无餐食   \n2    08:10   CZ2879     空客A320(中)  江北机场  2h15m  10:25    萧山机场       无餐食   \n3    19:15   MF8416  波音737-800(中)  江北机场  2h10m  21:25    萧山机场       有正餐   \n4    09:00   MF8478  波音737-800(中)  江北机场  2h10m  11:10    萧山机场       有小食   \n5    21:50   JD5728     空客A320(中)  江北机场  2h15m  00:05    萧山机场       无餐食   \n..     ...      ...           ...   ...    ...    ...     ...       ...   \n391  07:35  G52132K        JET(小)  白云机场  9h50m  17:25    东山机场       无餐食   \n392  07:35  G52166Z        JET(小)  白云机场  9h50m  17:25    东山机场       无餐食   \n393  14:05   9C8989     空客A320(中)  滨海机场  1h40m  15:45  扬州泰州机场       无餐食   \n394  07:35   GS7867     ERJ190(中)  滨海机场  1h40m  09:15  扬州泰州机场       无餐食   \n395  12:50  G56505G        JET(小)  滨海机场   8h5m  20:55  扬州泰州机场       无餐食   \n\n        价格 gray_style  航空公司  \n1     ¥555    3.4折经济舱  天津航空  \n2     ¥600    3.3折经济舱  南方航空  \n3     ¥600      3折经济舱  厦门航空  \n4     ¥650    3.3折经济舱  厦门航空  \n5     ¥650      首悦经济舱  首都航空  \n..     ...        ...   ...  \n391   ¥840    1.5折经济舱  华夏航空  \n392  ¥1440    2.6折经济舱  华夏航空  \n393   ¥260    2.8折经济舱  春秋航空  \n394   ¥330    3.5折经济舱  天津航空  \n395   ¥740    2.3折经济舱  华夏航空  \n\n[301 rows x 11 columns]\n"
      }
     ],
     "persistentId": "d5857f11-5631-42f7-b0e9-f8c6c6a684f0",
     "text": "df2 = t_process(\"flights_1_1000.xlsx\")"
    },
    "executionTime": "2020-06-11T18:05:32.767Z"
   },
   {
    "cell": {
     "executionCount": 12,
     "executionEventId": "30330e4d-9b77-4aa2-a670-2351cdf004af",
     "hasError": false,
     "id": "918261a3-3f96-4f42-b4e7-c47cfee34296",
     "outputs": [
      {
       "data": {
        "text/plain": "起飞时间            08:50\n航班号           G56170Y\n飞机类型           JET(小)\n起飞机场             长水机场\n时长              9h20m\n到达时间            18:10\n达到机场             梅县机场\nlabel_tip         无餐食\n价格              ¥1210\ngray_style    4.4折经济舱\n航空公司             华夏航空\n3字码起飞            长水机场\n4字码起飞            长水机场\n3字码降落            梅县机场\n4字码降落            梅县机场\nName: 48, dtype: object"
       },
       "execution_count": 12,
       "metadata": {},
       "output_type": "execute_result"
      }
     ],
     "persistentId": "8a76e0bd-3ebd-45fc-9f25-471cbe45cc9b",
     "text": "df2.iloc[48]"
    },
    "executionTime": "2020-06-11T18:05:32.799Z"
   },
   {
    "cell": {
     "executionCount": 13,
     "executionEventId": "d5d5da85-ebbf-4b22-884b-829369cfcb05",
     "hasError": false,
     "id": "8c6d6999-f57c-4a4a-a3fd-7a15feb00c25",
     "outputs": [],
     "persistentId": "ad1466ff-db1c-4274-b9bb-82b405682a85",
     "text": "import pandas as pd\nimport re"
    },
    "executionTime": "2020-06-11T18:05:50.394Z"
   },
   {
    "cell": {
     "executionCount": 14,
     "executionEventId": "ef7950cb-3cb4-4ebb-b9f2-725f08015c95",
     "hasError": false,
     "id": "d69ac834-cee2-410a-a7e4-1476148251da",
     "outputs": [],
     "persistentId": "6da06b67-b1de-40fc-82fa-b581b05d8e69",
     "text": "def process(filename):\n    df = pd.read_excel(filename,sheet_name=\"Sheet1\")\n    temp1 = df.iloc[:,1]  \n    temp2 = df.iloc[:,3]  \n    temp3 = df.iloc[:,6]\n    pattern1 = re.compile('(.[\\u4E00-\\u9FA5]+)')  \n    pattern2 = re.compile('([^\\u4E00-\\u9FA5]+)')  \n    df[\"航空公司\"] = temp1.str.extract(pattern1)  \n    df[\"航班号\"] = temp1.str.extract(pattern2)    \n    df[\"起飞机场\"] = temp2.str.extract(pattern1)  \n    df[\"达到机场\"] = temp3.str.extract(pattern1)  \n    newfilename = filename.split(\".\")[0] + \".csv\"\n    df.to_csv(newfilename,sep=',',index=False)    "
    },
    "executionTime": "2020-06-11T18:05:50.398Z"
   },
   {
    "cell": {
     "executionCount": 15,
     "executionEventId": "f7f1e41a-6758-443b-b1be-ad531565f434",
     "hasError": false,
     "id": "7f4a2fef-87e8-4680-a1fe-75bb8bcf0af4",
     "outputs": [],
     "persistentId": "700ad4ea-55d7-4577-a310-debba651d6a0",
     "text": "process(\"flights_1_1000.xlsx\") "
    },
    "executionTime": "2020-06-11T18:05:50.485Z"
   },
   {
    "cell": {
     "executionCount": 16,
     "executionEventId": "34e1cdf4-2924-4711-9d06-c1c288bfa724",
     "hasError": false,
     "id": "8981a09a-6896-4dd1-9bd9-176c01fa4a39",
     "outputs": [],
     "persistentId": "e4f7fbc2-30fc-45a4-8fd7-1ddc83744092",
     "text": "def t_process(filename):\n    df = pd.read_excel(filename,sheet_name=\"Sheet1\")\n    keys = pd.read_excel(\"airportChina V1.1.xlsx\",sheet_name=\"Sheet1\")\n    keys = keys[[\"机场名称\",\"机场三字码\",\"机场四字码\"]]  #获取这三列\n    names = keys[\"机场名称\"].tolist()#机场名\n    code_3 = keys[\"机场三字码\"].tolist()#3字码\n    code_4 = keys[\"机场四字码\"].tolist()#4字码\n    dict1 = dict(zip(names,code_3))#机场名-3字码\n    dict2 = dict(zip(names,code_4))#机场名-4字码\n    temp1 = df.iloc[:,1] #获取第1列\n    temp2 = df.iloc[:,3]\n    temp3 = df.iloc[:,6]\n    pattern1 = re.compile('(.[\\u4E00-\\u9FA5]+)')  #创建模式对象，匹配所有中文字符\n    pattern2 = re.compile('([^\\u4E00-\\u9FA5]+)')  #匹配除中文字符以外的所有字符\n    df[\"航空公司\"] = temp1.str.extract(pattern1)  #获取这一匹配\n    df[\"航班号\"] = temp1.str.extract(pattern2)\n    df[\"起飞机场\"] = temp2.str.extract(pattern1)\n    df[\"达到机场\"] = temp3.str.extract(pattern1)\n    departure = df[\"起飞机场\"]\n    arrival = df[\"达到机场\"]\n    #arrival中的元素不在机场名称里的行数和departure中的元素不在机场名称里的行数和，并将其打印\n    test = arrival[~arrival.isin(keys[\"机场名称\"])].shape[0] + departure[~departure.isin(keys[\"机场名称\"])].shape[0] \n    if (test > 0):\n        print(\"There exists \"+str(test)+\" unmatched airport names.\")\n        print(\"For the arrival part:\")\n        print(df[~arrival.isin(keys[\"机场名称\"])])\n        print(\"For the departure part:\")\n        print(df[~departure.isin(keys[\"机场名称\"])])\n    df[\"3字码起飞\"] = departure.replace(dict1)  #将起飞机场名用3字码代替\n    df[\"4字码起飞\"] = departure.replace(dict2)  #将起飞机场名用4字码代替\n    df[\"3字码降落\"] = arrival.replace(dict1)\n    df[\"4字码降落\"] = arrival.replace(dict2)\n    return pd.DataFrame(df)\n    #df.to_csv(newfilename,sep=',',index=False)"
    },
    "executionTime": "2020-06-11T18:05:50.506Z"
   },
   {
    "cell": {
     "executionCount": 17,
     "executionEventId": "01af04bf-cb10-4552-8465-dc51b7586503",
     "hasError": false,
     "id": "bf4c1e37-228d-41f5-b17a-d36947692223",
     "outputs": [
      {
       "name": "stdout",
       "output_type": "stream",
       "text": "There exists 4 unmatched airport names.\nFor the arrival part:\n     起飞时间      航班号    飞机类型  起飞机场      时长   到达时间  达到机场 label_tip     价格  \\\n48  08:50  G56170Y  JET(小)  长水机场   9h20m  18:10  梅县机场       无餐食  ¥1210   \n49  10:25  G54766J  JET(小)  长水机场   7h45m  18:10  梅县机场       无餐食  ¥1220   \n50  06:40  G56900K  JET(小)  长水机场  11h30m  18:10  梅县机场       无餐食  ¥1250   \n51  12:55  G52306C  JET(小)  长水机场   5h15m  18:10  梅县机场       无餐食  ¥1250   \n\n   gray_style  航空公司  \n48    4.4折经济舱  华夏航空  \n49    4.4折经济舱  华夏航空  \n50    4.5折经济舱  华夏航空  \n51    4.5折经济舱  华夏航空  \nFor the departure part:\nEmpty DataFrame\nColumns: [起飞时间, 航班号, 飞机类型, 起飞机场, 时长, 到达时间, 达到机场, label_tip, 价格, gray_style, 航空公司]\nIndex: []\n"
      }
     ],
     "persistentId": "d5857f11-5631-42f7-b0e9-f8c6c6a684f0",
     "text": "df2 = t_process(\"flights_1_1000.xlsx\")"
    },
    "executionTime": "2020-06-11T18:05:50.632Z"
   },
   {
    "cell": {
     "executionCount": 18,
     "executionEventId": "4c154084-6297-4fa0-93a0-3b80cfaa3ed8",
     "hasError": false,
     "id": "918261a3-3f96-4f42-b4e7-c47cfee34296",
     "outputs": [
      {
       "data": {
        "text/plain": "起飞时间            08:50\n航班号           G56170Y\n飞机类型           JET(小)\n起飞机场             长水机场\n时长              9h20m\n到达时间            18:10\n达到机场             梅县机场\nlabel_tip         无餐食\n价格              ¥1210\ngray_style    4.4折经济舱\n航空公司             华夏航空\n3字码起飞             KMG\n4字码起飞            ZPPP\n3字码降落            梅县机场\n4字码降落            梅县机场\nName: 48, dtype: object"
       },
       "execution_count": 18,
       "metadata": {},
       "output_type": "execute_result"
      }
     ],
     "persistentId": "8a76e0bd-3ebd-45fc-9f25-471cbe45cc9b",
     "text": "df2.iloc[48]"
    },
    "executionTime": "2020-06-11T18:05:50.644Z"
   },
   {
    "cell": {
     "executionCount": 19,
     "executionEventId": "4f0a7653-d5f9-4d25-bb16-d38d33058fa3",
     "hasError": false,
     "id": "8c6d6999-f57c-4a4a-a3fd-7a15feb00c25",
     "outputs": [],
     "persistentId": "ad1466ff-db1c-4274-b9bb-82b405682a85",
     "text": "import pandas as pd\nimport re"
    },
    "executionTime": "2020-06-11T18:07:11.611Z"
   },
   {
    "cell": {
     "executionCount": 20,
     "executionEventId": "d339c653-59a6-4c51-a40c-eea0d76dbd74",
     "hasError": false,
     "id": "d69ac834-cee2-410a-a7e4-1476148251da",
     "outputs": [],
     "persistentId": "6da06b67-b1de-40fc-82fa-b581b05d8e69",
     "text": "def process(filename):\n    df = pd.read_excel(filename,sheet_name=\"Sheet1\")\n    temp1 = df.iloc[:,1]  \n    temp2 = df.iloc[:,3]  \n    temp3 = df.iloc[:,6]\n    pattern1 = re.compile('(.[\\u4E00-\\u9FA5]+)')  \n    pattern2 = re.compile('([^\\u4E00-\\u9FA5]+)')  \n    df[\"航空公司\"] = temp1.str.extract(pattern1)  \n    df[\"航班号\"] = temp1.str.extract(pattern2)    \n    df[\"起飞机场\"] = temp2.str.extract(pattern1)  \n    df[\"达到机场\"] = temp3.str.extract(pattern1)  \n    newfilename = filename.split(\".\")[0] + \".csv\"\n    df.to_csv(newfilename,sep=',',index=False)    "
    },
    "executionTime": "2020-06-11T18:07:11.621Z"
   },
   {
    "cell": {
     "executionCount": 21,
     "executionEventId": "482a6670-fe94-4edf-91de-f76265d523bb",
     "hasError": false,
     "id": "7f4a2fef-87e8-4680-a1fe-75bb8bcf0af4",
     "outputs": [],
     "persistentId": "700ad4ea-55d7-4577-a310-debba651d6a0",
     "text": "process(\"flights_1_1000.xlsx\") "
    },
    "executionTime": "2020-06-11T18:07:11.760Z"
   },
   {
    "cell": {
     "executionCount": 22,
     "executionEventId": "f5ba5543-a0b8-41f2-9337-a3c84f895064",
     "hasError": false,
     "id": "8981a09a-6896-4dd1-9bd9-176c01fa4a39",
     "outputs": [],
     "persistentId": "e4f7fbc2-30fc-45a4-8fd7-1ddc83744092",
     "text": "def t_process(filename):\n    df = pd.read_excel(filename,sheet_name=\"Sheet1\")\n    keys = pd.read_excel(\"airportChina V1.1.xlsx\",sheet_name=\"Sheet1\")\n    keys = keys[[\"机场名称\",\"机场三字码\",\"机场四字码\"]]  #获取这三列\n    names = keys[\"机场名称\"].tolist()#机场名\n    code_3 = keys[\"机场三字码\"].tolist()#3字码\n    code_4 = keys[\"机场四字码\"].tolist()#4字码\n    dict1 = dict(zip(names,code_3))#机场名-3字码\n    dict2 = dict(zip(names,code_4))#机场名-4字码\n    temp1 = df.iloc[:,1] #获取第1列\n    temp2 = df.iloc[:,3]\n    temp3 = df.iloc[:,6]\n    pattern1 = re.compile('(.[\\u4E00-\\u9FA5]+)')  #创建模式对象，匹配所有中文字符\n    pattern2 = re.compile('([^\\u4E00-\\u9FA5]+)')  #匹配除中文字符以外的所有字符\n    df[\"航空公司\"] = temp1.str.extract(pattern1)  #获取这一匹配\n    df[\"航班号\"] = temp1.str.extract(pattern2)\n    df[\"起飞机场\"] = temp2.str.extract(pattern1)\n    df[\"达到机场\"] = temp3.str.extract(pattern1)\n    departure = df[\"起飞机场\"]\n    arrival = df[\"达到机场\"]\n    #arrival中的元素不在机场名称里的行数和departure中的元素不在机场名称里的行数和，并将其打印\n    test = arrival[~arrival.isin(keys[\"机场名称\"])].shape[0] + departure[~departure.isin(keys[\"机场名称\"])].shape[0] \n    if (test > 0):\n        print(\"There exists \"+str(test)+\" unmatched airport names.\")\n        print(\"For the arrival part:\")\n        print(df[~arrival.isin(keys[\"机场名称\"])])\n        print(\"For the departure part:\")\n        print(df[~departure.isin(keys[\"机场名称\"])])\n    df[\"3字码起飞\"] = departure.replace(dict1)  #将起飞机场名用3字码代替\n    df[\"4字码起飞\"] = departure.replace(dict2)  #将起飞机场名用4字码代替\n    df[\"3字码降落\"] = arrival.replace(dict1)\n    df[\"4字码降落\"] = arrival.replace(dict2)\n    return pd.DataFrame(df)\n    #df.to_csv(newfilename,sep=',',index=False)"
    },
    "executionTime": "2020-06-11T18:07:11.766Z"
   },
   {
    "cell": {
     "executionCount": 23,
     "executionEventId": "e6b5cddb-c865-4e19-8ecd-5ced985ffa78",
     "hasError": false,
     "id": "bf4c1e37-228d-41f5-b17a-d36947692223",
     "outputs": [],
     "persistentId": "d5857f11-5631-42f7-b0e9-f8c6c6a684f0",
     "text": "df2 = t_process(\"flights_1_1000.xlsx\")"
    },
    "executionTime": "2020-06-11T18:07:12.194Z"
   },
   {
    "cell": {
     "executionCount": 24,
     "executionEventId": "bc44bcfa-3c38-43cb-b04f-1965853fd751",
     "hasError": false,
     "id": "918261a3-3f96-4f42-b4e7-c47cfee34296",
     "outputs": [
      {
       "data": {
        "text/plain": "起飞时间            08:50\n航班号           G56170Y\n飞机类型           JET(小)\n起飞机场             长水机场\n时长              9h20m\n到达时间            18:10\n达到机场             梅县机场\nlabel_tip         无餐食\n价格              ¥1210\ngray_style    4.4折经济舱\n航空公司             华夏航空\n3字码起飞             KMG\n4字码起飞            ZPPP\n3字码降落             MXZ\n4字码降落            ZGMX\nName: 48, dtype: object"
       },
       "execution_count": 24,
       "metadata": {},
       "output_type": "execute_result"
      }
     ],
     "persistentId": "8a76e0bd-3ebd-45fc-9f25-471cbe45cc9b",
     "text": "df2.iloc[48]"
    },
    "executionTime": "2020-06-11T18:07:12.226Z"
   },
   {
    "cell": {
     "executionCount": 25,
     "executionEventId": "27220302-f65d-4497-b3e0-4c68ea462fe8",
     "hasError": false,
     "id": "8981a09a-6896-4dd1-9bd9-176c01fa4a39",
     "outputs": [],
     "persistentId": "e4f7fbc2-30fc-45a4-8fd7-1ddc83744092",
     "text": "def t_process(filename):\n    df = pd.read_excel(filename,sheet_name=\"Sheet1\")\n    keys = pd.read_excel(\"airportChina V1.1.xlsx\",sheet_name=\"Sheet1\")\n    keys = keys[[\"机场名称\",\"机场三字码\",\"机场四字码\"]]  #获取这三列\n    names = keys[\"机场名称\"].tolist()#机场名\n    code_3 = keys[\"机场三字码\"].tolist()#3字码\n    code_4 = keys[\"机场四字码\"].tolist()#4字码\n    dict1 = dict(zip(names,code_3))#机场名-3字码\n    dict2 = dict(zip(names,code_4))#机场名-4字码\n    temp1 = df.iloc[:,1] #获取第1列\n    temp2 = df.iloc[:,3]\n    temp3 = df.iloc[:,6]\n    pattern1 = re.compile('(.[\\u4E00-\\u9FA5]+)')  #创建模式对象，匹配所有中文字符\n    pattern2 = re.compile('([^\\u4E00-\\u9FA5]+)')  #匹配除中文字符以外的所有字符\n    df[\"航空公司\"] = temp1.str.extract(pattern1)  #获取这一匹配\n    df[\"航班号\"] = temp1.str.extract(pattern2)\n    df[\"起飞机场\"] = temp2.str.extract(pattern1)\n    df[\"达到机场\"] = temp3.str.extract(pattern1)\n    departure = df[\"起飞机场\"]\n    arrival = df[\"达到机场\"]\n    #arrival中的元素不在机场名称里的行数和departure中的元素不在机场名称里的行数和，并将其打印\n    test = arrival[~arrival.isin(keys[\"机场名称\"])].shape[0] + departure[~departure.isin(keys[\"机场名称\"])].shape[0] \n    if (test > 0):\n        print(\"There exists \"+str(test)+\" unmatched airport names.\")\n        print(\"For the arrival part:\")\n        print(df[~arrival.isin(keys[\"机场名称\"])])\n        print(\"For the departure part:\")\n        print(df[~departure.isin(keys[\"机场名称\"])])\n    df[\"3字码起飞\"] = departure.replace(dict1)  #将起飞机场名用3字码代替\n    df[\"4字码起飞\"] = departure.replace(dict2)  #将起飞机场名用4字码代替\n    df[\"3字码降落\"] = arrival.replace(dict1)\n    df[\"4字码降落\"] = arrival.replace(dict2)\n    df.to_csv(newfilename,sep=',',index=False)\n    return pd.DataFrame(df)\n"
    },
    "executionTime": "2020-06-11T18:07:35.520Z"
   },
   {
    "cell": {
     "executionCount": 26,
     "executionEventId": "6d7428c6-739f-4982-a4fc-e51d8ef4f5b0",
     "hasError": true,
     "id": "bf4c1e37-228d-41f5-b17a-d36947692223",
     "outputs": [
      {
       "ename": "NameError",
       "evalue": "name 'newfilename' is not defined",
       "output_type": "error",
       "traceback": [
        "\u001b[1;31m---------------------------------------------------------------------------\u001b[0m",
        "\u001b[1;31mNameError\u001b[0m                                 Traceback (most recent call last)",
        "\u001b[1;32m<ipython-input-26-283e8edb819f>\u001b[0m in \u001b[0;36m<module>\u001b[1;34m\u001b[0m\n\u001b[1;32m----> 1\u001b[1;33m \u001b[0mdf2\u001b[0m \u001b[1;33m=\u001b[0m \u001b[0mt_process\u001b[0m\u001b[1;33m(\u001b[0m\u001b[1;34m\"flights_1_1000.xlsx\"\u001b[0m\u001b[1;33m)\u001b[0m\u001b[1;33m\u001b[0m\u001b[1;33m\u001b[0m\u001b[0m\n\u001b[0m",
        "\u001b[1;32m<ipython-input-25-ba3edc71a9d4>\u001b[0m in \u001b[0;36mt_process\u001b[1;34m(filename)\u001b[0m\n\u001b[0;32m     31\u001b[0m     \u001b[0mdf\u001b[0m\u001b[1;33m[\u001b[0m\u001b[1;34m\"3字码降落\"\u001b[0m\u001b[1;33m]\u001b[0m \u001b[1;33m=\u001b[0m \u001b[0marrival\u001b[0m\u001b[1;33m.\u001b[0m\u001b[0mreplace\u001b[0m\u001b[1;33m(\u001b[0m\u001b[0mdict1\u001b[0m\u001b[1;33m)\u001b[0m\u001b[1;33m\u001b[0m\u001b[1;33m\u001b[0m\u001b[0m\n\u001b[0;32m     32\u001b[0m     \u001b[0mdf\u001b[0m\u001b[1;33m[\u001b[0m\u001b[1;34m\"4字码降落\"\u001b[0m\u001b[1;33m]\u001b[0m \u001b[1;33m=\u001b[0m \u001b[0marrival\u001b[0m\u001b[1;33m.\u001b[0m\u001b[0mreplace\u001b[0m\u001b[1;33m(\u001b[0m\u001b[0mdict2\u001b[0m\u001b[1;33m)\u001b[0m\u001b[1;33m\u001b[0m\u001b[1;33m\u001b[0m\u001b[0m\n\u001b[1;32m---> 33\u001b[1;33m     \u001b[0mdf\u001b[0m\u001b[1;33m.\u001b[0m\u001b[0mto_csv\u001b[0m\u001b[1;33m(\u001b[0m\u001b[0mnewfilename\u001b[0m\u001b[1;33m,\u001b[0m\u001b[0msep\u001b[0m\u001b[1;33m=\u001b[0m\u001b[1;34m','\u001b[0m\u001b[1;33m,\u001b[0m\u001b[0mindex\u001b[0m\u001b[1;33m=\u001b[0m\u001b[1;32mFalse\u001b[0m\u001b[1;33m)\u001b[0m\u001b[1;33m\u001b[0m\u001b[1;33m\u001b[0m\u001b[0m\n\u001b[0m\u001b[0;32m     34\u001b[0m     \u001b[1;32mreturn\u001b[0m \u001b[0mpd\u001b[0m\u001b[1;33m.\u001b[0m\u001b[0mDataFrame\u001b[0m\u001b[1;33m(\u001b[0m\u001b[0mdf\u001b[0m\u001b[1;33m)\u001b[0m\u001b[1;33m\u001b[0m\u001b[1;33m\u001b[0m\u001b[0m\n",
        "\u001b[1;31mNameError\u001b[0m: name 'newfilename' is not defined"
       ]
      }
     ],
     "persistentId": "d5857f11-5631-42f7-b0e9-f8c6c6a684f0",
     "text": "df2 = t_process(\"flights_1_1000.xlsx\")"
    },
    "executionTime": "2020-06-11T18:07:37.048Z"
   },
   {
    "cell": {
     "executionCount": 27,
     "executionEventId": "be6240de-72a5-4bb6-a198-944079cbc2ac",
     "hasError": false,
     "id": "8981a09a-6896-4dd1-9bd9-176c01fa4a39",
     "outputs": [],
     "persistentId": "e4f7fbc2-30fc-45a4-8fd7-1ddc83744092",
     "text": "def t_process(filename):\n    df = pd.read_excel(filename,sheet_name=\"Sheet1\")\n    keys = pd.read_excel(\"airportChina V1.1.xlsx\",sheet_name=\"Sheet1\")\n    keys = keys[[\"机场名称\",\"机场三字码\",\"机场四字码\"]]  #获取这三列\n    names = keys[\"机场名称\"].tolist()#机场名\n    code_3 = keys[\"机场三字码\"].tolist()#3字码\n    code_4 = keys[\"机场四字码\"].tolist()#4字码\n    dict1 = dict(zip(names,code_3))#机场名-3字码\n    dict2 = dict(zip(names,code_4))#机场名-4字码\n    temp1 = df.iloc[:,1] #获取第1列\n    temp2 = df.iloc[:,3]\n    temp3 = df.iloc[:,6]\n    pattern1 = re.compile('(.[\\u4E00-\\u9FA5]+)')  #创建模式对象，匹配所有中文字符\n    pattern2 = re.compile('([^\\u4E00-\\u9FA5]+)')  #匹配除中文字符以外的所有字符\n    df[\"航空公司\"] = temp1.str.extract(pattern1)  #获取这一匹配\n    df[\"航班号\"] = temp1.str.extract(pattern2)\n    df[\"起飞机场\"] = temp2.str.extract(pattern1)\n    df[\"达到机场\"] = temp3.str.extract(pattern1)\n    departure = df[\"起飞机场\"]\n    arrival = df[\"达到机场\"]\n    #arrival中的元素不在机场名称里的行数和departure中的元素不在机场名称里的行数和，并将其打印\n    test = arrival[~arrival.isin(keys[\"机场名称\"])].shape[0] + departure[~departure.isin(keys[\"机场名称\"])].shape[0] \n    if (test > 0):\n        print(\"There exists \"+str(test)+\" unmatched airport names.\")\n        print(\"For the arrival part:\")\n        print(df[~arrival.isin(keys[\"机场名称\"])])\n        print(\"For the departure part:\")\n        print(df[~departure.isin(keys[\"机场名称\"])])\n    df[\"3字码起飞\"] = departure.replace(dict1)  #将起飞机场名用3字码代替\n    df[\"4字码起飞\"] = departure.replace(dict2)  #将起飞机场名用4字码代替\n    df[\"3字码降落\"] = arrival.replace(dict1)\n    df[\"4字码降落\"] = arrival.replace(dict2)\n    newfilename = filename.split(\".\")[0] + \".csv\"\n    df.to_csv(newfilename,sep=',',index=False)\n    return pd.DataFrame(df)\n"
    },
    "executionTime": "2020-06-11T18:08:00.313Z"
   },
   {
    "cell": {
     "executionCount": 28,
     "executionEventId": "37949fde-f0f1-4c96-b267-e2c1da4a8d12",
     "hasError": false,
     "id": "bf4c1e37-228d-41f5-b17a-d36947692223",
     "outputs": [],
     "persistentId": "d5857f11-5631-42f7-b0e9-f8c6c6a684f0",
     "text": "df2 = t_process(\"flights_1_1000.xlsx\")"
    },
    "executionTime": "2020-06-11T18:08:01.882Z"
   }
  ],
  "kernelspec": {
   "display_name": "Python 3",
   "language": "python",
   "name": "python3"
  },
  "language_info": {
   "codemirror_mode": {
    "name": "ipython",
    "version": 3
   },
   "file_extension": ".py",
   "mimetype": "text/x-python",
   "name": "python",
   "nbconvert_exporter": "python",
   "pygments_lexer": "ipython3",
   "version": "3.7.1"
  },
  "uuid": "2049fb55-5f2c-434d-88fb-39048254fac5"
 },
 "nbformat": 4,
 "nbformat_minor": 4
}
