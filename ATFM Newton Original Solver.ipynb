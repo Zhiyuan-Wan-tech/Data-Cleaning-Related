{
 "cells": [
  {
   "cell_type": "code",
   "execution_count": 20,
   "metadata": {},
   "outputs": [],
   "source": [
    "import numpy as np\n",
    "import pandas as pd\n",
    "import networkx as nx\n",
    "import matplotlib.pyplot as plt\n",
    "import math\n",
    "from networkx.algorithms import approximation as approx"
   ]
  },
  {
   "cell_type": "code",
   "execution_count": 236,
   "metadata": {},
   "outputs": [],
   "source": [
    "class effectiveResistanceOpt():\n",
    "    def __init__(self):\n",
    "        self.eps, self.currentStep, self.maxIterationTime = 10**-6, 0, 50\n",
    "        self.MaximumStep = 50\n",
    "        self.solved = False\n",
    "        \n",
    "    def initializeGraph(self):\n",
    "        self.graph = nx.DiGraph()\n",
    "        data = [(0,1,2),(1,2,1),(2,3,1),(3,0,1)]\n",
    "        self.graph.add_weighted_edges_from(data)\n",
    "        self.nNode = self.graph.number_of_nodes()\n",
    "        self.nEdge = nx.number_of_edges(self.graph)\n",
    "        self.incidenceMatrix = nx.incidence_matrix(self.graph, oriented=True).todense()\n",
    "        self.incidenceMatrixUndirected = nx.incidence_matrix(self.graph).todense()\n",
    "    \n",
    "    def initializeWeights(self,data = [0.2, 0.3, 0.2, 0.3]):\n",
    "        self.w = np.array(data)\n",
    "        self.w_ = np.diag(self.w)\n",
    "        self.w, self.w_ = np.asmatrix(self.w).T, np.asmatrix(self.w_)\n",
    "        for i, edge in enumerate(self.graph.edges):\n",
    "            self.graph.edges[edge]['weight'] = self.w[i,0]\n",
    "    \n",
    "    def addConstrs(self):\n",
    "        self.constrsCoeff = np.ones((self.nEdge,1))\n",
    "    \n",
    "    def iMatrix(self):\n",
    "        return self.incidenceMatrix\n",
    "        \n",
    "    def lMatrix(self,weight):\n",
    "        w_ = np.asmatrix(np.diagflat(weight))\n",
    "        laplacianMatrix = self.incidenceMatrix * w_ * self.incidenceMatrix.T\n",
    "        return laplacianMatrix\n",
    "    \n",
    "    def computeObj(self,weight):\n",
    "        x = self.computeX(weight)\n",
    "        totalEffectiveResistace = (self.nNode * np.matrix.trace(x) - self.nNode)[0,0]\n",
    "        return totalEffectiveResistace\n",
    "    \n",
    "    def computeX(self,w):\n",
    "        lMatrix = self.lMatrix(w)\n",
    "        x = np.linalg.inv(lMatrix + (1/self.nNode) * np.dot(np.ones((self.nNode,1)), np.ones((1, self.nNode))))\n",
    "        return x\n",
    "    def computeGradient(self,w):\n",
    "        x = self.computeX(w)\n",
    "        g = - self.nNode * (self.incidenceMatrix.T * x * x * self.incidenceMatrix).diagonal()\n",
    "        return g\n",
    "    \n",
    "    def computeHessian(self,w):\n",
    "        x = self.computeX(w)\n",
    "        h = 2 * self.nNode * np.multiply((self.incidenceMatrix.T *x * x * self.incidenceMatrix),(self.incidenceMatrix.T * x * self.incidenceMatrix))\n",
    "        return h\n",
    "    \n",
    "    def computeDw(self,w):\n",
    "        h = self.computeHessian(w)\n",
    "        g = self.computeGradient(w)\n",
    "        upper = np.concatenate((h,self.constrsCoeff),1)\n",
    "        lower = np.asmatrix(np.append(self.constrsCoeff,0))\n",
    "        tempg = np.asmatrix(np.append(np.array(g),0)).T\n",
    "        tempw = np.linalg.inv(np.concatenate((upper,lower),0)) * (-tempg)\n",
    "        dw = tempw[0:self.nEdge,0]\n",
    "        return dw\n",
    "    \n",
    "    def computeReducedcost(self,w):\n",
    "        h = self.computeHessian(w)\n",
    "        dw = self.computeDw(w)\n",
    "        reducedcost = (dw.T * h * dw)[0,0]**0.5\n",
    "        return reducedcost\n",
    "    \n",
    "    def NotOptimal(self,w):\n",
    "        return self.computeReducedcost(w) >= self.eps\n",
    "\n",
    "    def solve(self):\n",
    "        iter = 0\n",
    "        w = self.w\n",
    "        while (self.NotOptimal(w)) and (iter < self.MaximumStep):\n",
    "            alpha,beta,t = 0.3,0.5,1\n",
    "            dw = self.computeDw(w)\n",
    "            oldObj = self.computeObj(w)\n",
    "            g = self.computeGradient(w)\n",
    "            decrease = (g * dw)[0,0]\n",
    "            while (self.computeObj(w + t * dw) > oldObj + alpha * t * decrease):\n",
    "                t = beta * t\n",
    "            iter += 1\n",
    "            w += t * dw\n",
    "            print(\"iter\",iter)\n",
    "            print(\"w:\",w)"
   ]
  },
  {
   "cell_type": "code",
   "execution_count": 237,
   "metadata": {},
   "outputs": [],
   "source": [
    "effectiveResistanceOpt_ = effectiveResistanceOpt()\n",
    "effectiveResistanceOpt_.initializeGraph()\n",
    "effectiveResistanceOpt_.addConstrs()\n",
    "effectiveResistanceOpt_.initializeWeights()"
   ]
  },
  {
   "cell_type": "code",
   "execution_count": 238,
   "metadata": {},
   "outputs": [
    {
     "name": "stdout",
     "output_type": "stream",
     "text": [
      "iter 1\n",
      "w: [[0.24285714]\n",
      " [0.25714286]\n",
      " [0.24285714]\n",
      " [0.25714286]]\n",
      "iter 2\n",
      "w: [[0.24997673]\n",
      " [0.25002327]\n",
      " [0.24997673]\n",
      " [0.25002327]]\n",
      "iter 3\n",
      "w: [[0.25]\n",
      " [0.25]\n",
      " [0.25]\n",
      " [0.25]]\n"
     ]
    }
   ],
   "source": [
    "effectiveResistanceOpt_.solve()"
   ]
  }
 ],
 "metadata": {
  "kernelspec": {
   "display_name": "Python 3",
   "language": "python",
   "name": "python3"
  },
  "language_info": {
   "codemirror_mode": {
    "name": "ipython",
    "version": 3
   },
   "file_extension": ".py",
   "mimetype": "text/x-python",
   "name": "python",
   "nbconvert_exporter": "python",
   "pygments_lexer": "ipython3",
   "version": "3.7.2"
  }
 },
 "nbformat": 4,
 "nbformat_minor": 2
}
